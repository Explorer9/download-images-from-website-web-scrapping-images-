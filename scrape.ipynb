{
  "nbformat": 4,
  "nbformat_minor": 0,
  "metadata": {
    "colab": {
      "name": "ash",
      "provenance": [],
      "collapsed_sections": []
    },
    "kernelspec": {
      "name": "python3",
      "display_name": "Python 3"
    }
  },
  "cells": [
    {
      "cell_type": "code",
      "metadata": {
        "id": "oz9_LZZkPhoF",
        "colab_type": "code",
        "colab": {}
      },
      "source": [
        "!pip install beautifulsoup4\n",
        "!pip install scrapy"
      ],
      "execution_count": null,
      "outputs": []
    },
    {
      "cell_type": "code",
      "metadata": {
        "id": "TvQ3yn1TPuG1",
        "colab_type": "code",
        "colab": {}
      },
      "source": [
        "from bs4 import BeautifulSoup\n",
        "import pandas as pd\n",
        "import requests\n",
        "import urllib.request\n",
        "import shutil"
      ],
      "execution_count": 89,
      "outputs": []
    },
    {
      "cell_type": "code",
      "metadata": {
        "id": "6yckGNSIQHTw",
        "colab_type": "code",
        "colab": {}
      },
      "source": [
        "url = \"https://www.sergiorossi.com/us-en/accessories/bags/\"\n",
        "response = requests.get(url)\n",
        "\n",
        "soup = BeautifulSoup(response.text, \"html.parser\")\n",
        "\n",
        "aas = soup.find_all(\"a\", class_='pdp-link image-link')"
      ],
      "execution_count": 12,
      "outputs": []
    },
    {
      "cell_type": "code",
      "metadata": {
        "id": "do94rxZxRtVv",
        "colab_type": "code",
        "colab": {}
      },
      "source": [
        "image_info = []\n",
        "desc=[]\n",
        "for a in aas:\n",
        "    image_tag = a.findChildren(\"img\")\n",
        "    image_info.append((image_tag[1][\"data-src\"], image_tag[1][\"alt\"]))\n",
        "    desc.append(a.get(\"aria-label\"))"
      ],
      "execution_count": 86,
      "outputs": []
    },
    {
      "cell_type": "code",
      "metadata": {
        "id": "0vsKibo4RyWB",
        "colab_type": "code",
        "colab": {}
      },
      "source": [
        "def download_image(image,i):\n",
        "    response = requests.get(image[0], stream=True)\n",
        "    realname = ''.join(e for e in image[1] if e.isalnum())\n",
        "    \n",
        "    \n",
        "    file = open(\"/content/images/{}.jpg\".format(desc[i]), 'wb')\n",
        "    \n",
        "    response.raw.decode_content = True\n",
        "    shutil.copyfileobj(response.raw, file)\n",
        "    del response"
      ],
      "execution_count": 87,
      "outputs": []
    },
    {
      "cell_type": "code",
      "metadata": {
        "id": "hymogPaqR3hA",
        "colab_type": "code",
        "colab": {}
      },
      "source": [
        "\n",
        "for i in range(0, len(image_info)):\n",
        "    download_image(image_info[i],i)"
      ],
      "execution_count": 88,
      "outputs": []
    },
    {
      "cell_type": "code",
      "metadata": {
        "id": "k2eICgpdpDNL",
        "colab_type": "code",
        "colab": {}
      },
      "source": [
        "data=pd.DataFrame(image_info,columns=['image_link','real name'])\n",
        "data[\"description\"]=desc"
      ],
      "execution_count": 101,
      "outputs": []
    },
    {
      "cell_type": "code",
      "metadata": {
        "id": "qfY88Jc-ttgl",
        "colab_type": "code",
        "colab": {}
      },
      "source": [
        "data.to_csv(\"/content/images/data.csv\")"
      ],
      "execution_count": 103,
      "outputs": []
    }
  ]
}